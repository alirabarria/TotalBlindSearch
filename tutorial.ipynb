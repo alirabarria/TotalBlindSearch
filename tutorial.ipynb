{
 "cells": [
  {
   "cell_type": "markdown",
   "metadata": {},
   "source": [
    "# TBS tutorial"
   ]
  },
  {
   "cell_type": "code",
   "execution_count": 1,
   "metadata": {
    "ExecuteTime": {
     "end_time": "2020-10-16T23:30:55.454153Z",
     "start_time": "2020-10-16T23:30:53.806135Z"
    }
   },
   "outputs": [
    {
     "name": "stderr",
     "output_type": "stream",
     "text": [
      "WARNING: AstropyDeprecationWarning: astropy.extern.six will be removed in 4.0, use the six module directly if it is still needed [astropy.extern.six]\n"
     ]
    }
   ],
   "source": [
    "from TBS import *"
   ]
  },
  {
   "cell_type": "markdown",
   "metadata": {},
   "source": [
    "The input for TBS are three lists of atomic species, a transition list, and a lists of the respective log(gf). We also to indicate the location of the 1d spectra files, the band in which it will analyze the absorption, and the output directory for the graphics:"
   ]
  },
  {
   "cell_type": "code",
   "execution_count": 2,
   "metadata": {
    "ExecuteTime": {
     "end_time": "2020-10-16T23:30:55.461536Z",
     "start_time": "2020-10-16T23:30:55.456553Z"
    }
   },
   "outputs": [],
   "source": [
    "str_elems = ['Ca1']\n",
    "linedb = [4974.34]\n",
    "loggfs = range(len(linedb))\n",
    "str_adress = 'tres-2b/green'\n",
    "band = 0.75 #this param is in angstrom\n",
    "output = 'out/'"
   ]
  },
  {
   "cell_type": "markdown",
   "metadata": {},
   "source": [
    "We also define the exoplanet params, explained in the README."
   ]
  },
  {
   "cell_type": "code",
   "execution_count": 4,
   "metadata": {
    "ExecuteTime": {
     "end_time": "2020-10-16T23:31:09.066717Z",
     "start_time": "2020-10-16T23:31:09.056779Z"
    }
   },
   "outputs": [],
   "source": [
    "TBS_dict = {\n",
    "        'orders': 17,\n",
    "        'indexFWHM': 14,\n",
    "        'error_gain': 2.09,\n",
    "        'dtransit': 106.68*0.000694444,\n",
    "        't_transit': 2456230.5980,\n",
    "        'period': 2.4706132,\n",
    "        'wave_binning': 0,\n",
    "        'test_boundary': 0.05,\n",
    "        'n_epoch_merge': 0,\n",
    "        'test_percent': 0.7,\n",
    "        'telescope': 'keck',\n",
    "        'dlt_epochs_again': [],\n",
    "        'merge_epoch_as': ['0:2', '2', '3:5', '5:7', '7:10', '11:15', '15:19', '19:23', '23:27', '27:31', '31:34',\n",
    "                '34:37', '37:40', '42:45', '45:48', '48:51', '52:54', '54:56'],\n",
    "        'dlt_epochs': 0,\n",
    "        'radial_velocity': 7.22\n",
    "    }"
   ]
  },
  {
   "cell_type": "code",
   "execution_count": 5,
   "metadata": {
    "ExecuteTime": {
     "end_time": "2020-10-16T23:31:12.263971Z",
     "start_time": "2020-10-16T23:31:10.718328Z"
    }
   },
   "outputs": [
    {
     "name": "stdout",
     "output_type": "stream",
     "text": [
      "Final number of files: 56\n"
     ]
    }
   ],
   "source": [
    "Tut = TBS(str_adress, linedb, str_elems, loggfs, create_folders=True, dlambda_analyze=band, output_folder=output, \n",
    "          save_figs=True, #False when working with multiprocessing\n",
    "            **TBS_dict)"
   ]
  },
  {
   "cell_type": "code",
   "execution_count": 6,
   "metadata": {
    "ExecuteTime": {
     "end_time": "2020-10-16T23:31:13.972694Z",
     "start_time": "2020-10-16T23:31:12.266578Z"
    }
   },
   "outputs": [
    {
     "name": "stdout",
     "output_type": "stream",
     "text": [
      "\n",
      "Doing validity tests (1/8) to 1 lines.\n",
      "\n"
     ]
    },
    {
     "name": "stderr",
     "output_type": "stream",
     "text": [
      "100%|██████████| 1/1 [00:00<00:00,  6.59it/s]\n"
     ]
    }
   ],
   "source": [
    "Tut.check_epoch(plot_all=True, print_info=False, fname_verbose=False) \n",
    "#verbose recommended with multiple lines, to avoid rewritting"
   ]
  },
  {
   "cell_type": "markdown",
   "metadata": {},
   "source": [
    "![title](out/tres-2b/green/first_epoch/4974.png)"
   ]
  },
  {
   "cell_type": "code",
   "execution_count": 7,
   "metadata": {
    "ExecuteTime": {
     "end_time": "2020-10-16T23:32:04.962528Z",
     "start_time": "2020-10-16T23:31:13.975584Z"
    }
   },
   "outputs": [
    {
     "name": "stdout",
     "output_type": "stream",
     "text": [
      "\n",
      "Doing extraction (2/8) to 1 lines.\n",
      "\n"
     ]
    },
    {
     "name": "stderr",
     "output_type": "stream",
     "text": [
      "100%|██████████| 56/56 [00:50<00:00,  1.13it/s]\n"
     ]
    }
   ],
   "source": [
    "Tut.extract_lines()"
   ]
  },
  {
   "cell_type": "code",
   "execution_count": 8,
   "metadata": {
    "ExecuteTime": {
     "end_time": "2020-10-16T23:32:08.767719Z",
     "start_time": "2020-10-16T23:32:04.965173Z"
    }
   },
   "outputs": [
    {
     "name": "stdout",
     "output_type": "stream",
     "text": [
      "\n",
      "Doing telluric corrections (3/8) to 1 lines.\n",
      "\n"
     ]
    },
    {
     "name": "stderr",
     "output_type": "stream",
     "text": [
      "100%|██████████| 1/1 [00:00<00:00,  1.25it/s]\n"
     ]
    }
   ],
   "source": [
    "Tut.telluric_corrections()"
   ]
  },
  {
   "cell_type": "code",
   "execution_count": 9,
   "metadata": {
    "ExecuteTime": {
     "end_time": "2020-10-16T23:32:13.200336Z",
     "start_time": "2020-10-16T23:32:08.769882Z"
    }
   },
   "outputs": [
    {
     "name": "stdout",
     "output_type": "stream",
     "text": [
      "\n",
      "Doing Snellen analysis (4/8) to 1 lines.\n",
      "\n"
     ]
    },
    {
     "name": "stderr",
     "output_type": "stream",
     "text": [
      "100%|██████████| 1/1 [00:00<00:00,  4.80it/s]"
     ]
    },
    {
     "name": "stdout",
     "output_type": "stream",
     "text": [
      "\n",
      "Doing Redfield analysis (5/8) to 1 lines.\n",
      "\n"
     ]
    },
    {
     "name": "stderr",
     "output_type": "stream",
     "text": [
      "\n",
      "\r",
      "  0%|          | 0/456 [00:00<?, ?it/s]"
     ]
    },
    {
     "name": "stdout",
     "output_type": "stream",
     "text": [
      "Calculating C( 11 , 7 ) = 330.0\n",
      "Calculating C( 7 , 4 ) = 35.0\n",
      "There will not be repetitions.\n",
      "[91.0, 35, 330]\n",
      "Critic comb numbers: 91.0 330.0 35.0\n",
      "Warning: Not enough data to make out-out or in-in loops\n"
     ]
    },
    {
     "name": "stderr",
     "output_type": "stream",
     "text": [
      "100%|██████████| 456/456 [00:02<00:00, 160.54it/s]"
     ]
    },
    {
     "name": "stdout",
     "output_type": "stream",
     "text": [
      "\n",
      "Doing Summary plots (6/8) to 1 lines.\n",
      "\n"
     ]
    },
    {
     "name": "stderr",
     "output_type": "stream",
     "text": [
      "\n",
      "100%|██████████| 1/1 [00:00<00:00,  5.71it/s]\n"
     ]
    }
   ],
   "source": [
    "Tut.snellen()\n",
    "Tut.redfield()\n",
    "Tut.summary_plots(fname_verbose=False)"
   ]
  },
  {
   "cell_type": "code",
   "execution_count": 14,
   "metadata": {
    "ExecuteTime": {
     "end_time": "2020-10-16T23:39:17.698703Z",
     "start_time": "2020-10-16T23:39:17.541939Z"
    }
   },
   "outputs": [
    {
     "name": "stdout",
     "output_type": "stream",
     "text": [
      "/bin/sh: -c: line 0: syntax error near unexpected token `out/tres-2b/green/summary_plots/4974.png'\r\n",
      "/bin/sh: -c: line 0: `[title](out/tres-2b/green/summary_plots/4974.png)'\r\n"
     ]
    }
   ],
   "source": [
    "![title](out/tres-2b/green/summary_plots/4974.png)"
   ]
  },
  {
   "cell_type": "code",
   "execution_count": 11,
   "metadata": {
    "ExecuteTime": {
     "end_time": "2020-10-16T23:32:13.927453Z",
     "start_time": "2020-10-16T23:32:13.330171Z"
    }
   },
   "outputs": [
    {
     "name": "stdout",
     "output_type": "stream",
     "text": [
      "\n",
      "Doing detection alert (7/8) to 1 lines.\n",
      "\n"
     ]
    },
    {
     "name": "stderr",
     "output_type": "stream",
     "text": [
      "100%|██████████| 1/1 [00:00<00:00, 14.33it/s]\n"
     ]
    }
   ],
   "source": [
    "Tut.detection_alert()"
   ]
  },
  {
   "cell_type": "code",
   "execution_count": 12,
   "metadata": {
    "ExecuteTime": {
     "end_time": "2020-10-16T23:32:13.967291Z",
     "start_time": "2020-10-16T23:32:13.931092Z"
    }
   },
   "outputs": [
    {
     "data": {
      "text/html": [
       "<div>\n",
       "<style scoped>\n",
       "    .dataframe tbody tr th:only-of-type {\n",
       "        vertical-align: middle;\n",
       "    }\n",
       "\n",
       "    .dataframe tbody tr th {\n",
       "        vertical-align: top;\n",
       "    }\n",
       "\n",
       "    .dataframe thead th {\n",
       "        text-align: right;\n",
       "    }\n",
       "</style>\n",
       "<table border=\"1\" class=\"dataframe\">\n",
       "  <thead>\n",
       "    <tr style=\"text-align: right;\">\n",
       "      <th></th>\n",
       "      <th>elem</th>\n",
       "      <th>obs_wv</th>\n",
       "      <th>fwhm</th>\n",
       "      <th>fwhm_pix</th>\n",
       "      <th>status</th>\n",
       "      <th>detection</th>\n",
       "      <th>warning</th>\n",
       "      <th>all_ok</th>\n",
       "      <th>log_gf</th>\n",
       "      <th>band</th>\n",
       "      <th>...</th>\n",
       "      <th>shift_test_mean</th>\n",
       "      <th>shift_test_std</th>\n",
       "      <th>centerIO</th>\n",
       "      <th>sigmaIO</th>\n",
       "      <th>centerOO</th>\n",
       "      <th>sigmaOO</th>\n",
       "      <th>centerII</th>\n",
       "      <th>sigmaII</th>\n",
       "      <th>image</th>\n",
       "      <th>epoch_image</th>\n",
       "    </tr>\n",
       "  </thead>\n",
       "  <tbody>\n",
       "    <tr>\n",
       "      <th>4974.34(0)</th>\n",
       "      <td>Ca1</td>\n",
       "      <td>4974.383264</td>\n",
       "      <td>1304.8</td>\n",
       "      <td>56441.7</td>\n",
       "      <td>Success</td>\n",
       "      <td>False</td>\n",
       "      <td>All ok</td>\n",
       "      <td>True</td>\n",
       "      <td>0</td>\n",
       "      <td>0.75</td>\n",
       "      <td>...</td>\n",
       "      <td>0.999586</td>\n",
       "      <td>7.33846e-05</td>\n",
       "      <td>-0.000797415</td>\n",
       "      <td>0.00108832</td>\n",
       "      <td>3.89303e-05</td>\n",
       "      <td>0.00498726</td>\n",
       "      <td>-0.000106827</td>\n",
       "      <td>0.00237622</td>\n",
       "      <td>out/tres-2b/green/summary_plots/4974_075.png</td>\n",
       "      <td>out/tres-2b/green/other_epoch/4974_ind_0_ord_0...</td>\n",
       "    </tr>\n",
       "  </tbody>\n",
       "</table>\n",
       "<p>1 rows × 40 columns</p>\n",
       "</div>"
      ],
      "text/plain": [
       "           elem       obs_wv    fwhm fwhm_pix   status  detection warning  \\\n",
       "4974.34(0)  Ca1  4974.383264  1304.8  56441.7  Success      False  All ok   \n",
       "\n",
       "            all_ok  log_gf  band  ...  shift_test_mean shift_test_std  \\\n",
       "4974.34(0)    True       0  0.75  ...         0.999586    7.33846e-05   \n",
       "\n",
       "               centerIO     sigmaIO     centerOO     sigmaOO     centerII  \\\n",
       "4974.34(0) -0.000797415  0.00108832  3.89303e-05  0.00498726 -0.000106827   \n",
       "\n",
       "               sigmaII                                         image  \\\n",
       "4974.34(0)  0.00237622  out/tres-2b/green/summary_plots/4974_075.png   \n",
       "\n",
       "                                                  epoch_image  \n",
       "4974.34(0)  out/tres-2b/green/other_epoch/4974_ind_0_ord_0...  \n",
       "\n",
       "[1 rows x 40 columns]"
      ]
     },
     "execution_count": 12,
     "metadata": {},
     "output_type": "execute_result"
    }
   ],
   "source": [
    "Tut.captains_log"
   ]
  },
  {
   "cell_type": "code",
   "execution_count": 13,
   "metadata": {
    "ExecuteTime": {
     "end_time": "2020-10-16T23:32:13.992000Z",
     "start_time": "2020-10-16T23:32:13.969935Z"
    }
   },
   "outputs": [
    {
     "name": "stdout",
     "output_type": "stream",
     "text": [
      "\n",
      "Writing the log in captains_log\n",
      "\n",
      "\n",
      "Writing the log in error_log\n",
      "\n",
      "\n",
      "Writing the log in params_log\n",
      "\n"
     ]
    }
   ],
   "source": [
    "Tut.consolidate_log()\n",
    "Tut.consolidate_log(error_log=True)\n",
    "Tut.consolidate_log(params=True)"
   ]
  },
  {
   "cell_type": "code",
   "execution_count": null,
   "metadata": {},
   "outputs": [],
   "source": []
  }
 ],
 "metadata": {
  "kernelspec": {
   "display_name": "Python 3",
   "language": "python",
   "name": "python3"
  },
  "language_info": {
   "codemirror_mode": {
    "name": "ipython",
    "version": 3
   },
   "file_extension": ".py",
   "mimetype": "text/x-python",
   "name": "python",
   "nbconvert_exporter": "python",
   "pygments_lexer": "ipython3",
   "version": "3.7.4"
  }
 },
 "nbformat": 4,
 "nbformat_minor": 2
}
